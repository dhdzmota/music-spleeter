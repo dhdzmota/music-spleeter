{
 "cells": [
  {
   "cell_type": "code",
   "execution_count": 2,
   "id": "1dd65a2a-34f4-4ea9-ac32-30a59d552a18",
   "metadata": {},
   "outputs": [],
   "source": [
    "import os\n",
    "import re\n",
    "import subprocess\n",
    "import librosa\n",
    "import soundfile\n",
    "\n",
    "from pydub import AudioSegment\n",
    "from pytube import YouTube\n",
    "from pytube.exceptions import RegexMatchError"
   ]
  },
  {
   "cell_type": "code",
   "execution_count": null,
   "id": "a5afe004-edf5-4938-95f6-8ebf6225ba27",
   "metadata": {},
   "outputs": [],
   "source": []
  },
  {
   "cell_type": "code",
   "execution_count": 16,
   "id": "c14bd96e-69c4-4695-914b-7594e33334b6",
   "metadata": {},
   "outputs": [],
   "source": [
    "filename = '../audio_output/Jurame/vocals.mp3'\n",
    "y, sr = librosa.load(filename)"
   ]
  },
  {
   "cell_type": "code",
   "execution_count": 18,
   "id": "eeefa3ee-8249-4848-8d64-0ee3128a78e0",
   "metadata": {},
   "outputs": [
    {
     "name": "stdout",
     "output_type": "stream",
     "text": [
      "../audio_output/Jurame/vocals__5.mp3\n",
      "../audio_output/Jurame/vocals__6.mp3\n",
      "../audio_output/Jurame/vocals__7.mp3\n",
      "../audio_output/Jurame/vocals__8.mp3\n"
     ]
    }
   ],
   "source": [
    "for steps in range(5, 9, 1):\n",
    "    new_filename = filename[::-1].replace('.', f'.{steps}__', 1)[::-1]\n",
    "    print(new_filename)\n",
    "    new_y = librosa.effects.pitch_shift(y, sr=sr, n_steps=steps)\n",
    "    #new_path = os.path.join(path_to_file, new_filename)\n",
    "    #soundfile.write(new_path, new_y, sr)\n",
    "    soundfile.write(new_filename, new_y, sr)\n",
    "    #print(f'writing song with new pitch in: \\n {new_path}')\n"
   ]
  },
  {
   "cell_type": "code",
   "execution_count": null,
   "id": "17724f3a-0e86-4413-bfd3-409a8e176fc2",
   "metadata": {},
   "outputs": [],
   "source": []
  }
 ],
 "metadata": {
  "kernelspec": {
   "display_name": "Python 3 (ipykernel)",
   "language": "python",
   "name": "python3"
  },
  "language_info": {
   "codemirror_mode": {
    "name": "ipython",
    "version": 3
   },
   "file_extension": ".py",
   "mimetype": "text/x-python",
   "name": "python",
   "nbconvert_exporter": "python",
   "pygments_lexer": "ipython3",
   "version": "3.8.10"
  }
 },
 "nbformat": 4,
 "nbformat_minor": 5
}
