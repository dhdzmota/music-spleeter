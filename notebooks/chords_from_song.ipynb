{
 "cells": [
  {
   "cell_type": "markdown",
   "id": "fa2076a7-ff53-44f8-800d-0783b646d70e",
   "metadata": {},
   "source": [
    "# IMPORTS"
   ]
  },
  {
   "cell_type": "code",
   "execution_count": 1,
   "id": "6e76c858-712f-460a-ab71-4cd7ea609b3c",
   "metadata": {},
   "outputs": [],
   "source": [
    "from chord_extractor.extractors import Chordino\n",
    "import numpy as np\n",
    "import pandas as pd\n",
    "import seaborn as sns\n",
    "import matplotlib.pyplot as plt\n",
    "from mingus.core import chords\n",
    "from midiutil import MIDIFile"
   ]
  },
  {
   "cell_type": "markdown",
   "id": "a970e7a7-0716-4fe3-ab9e-94c8a794789e",
   "metadata": {},
   "source": [
    "# VARIABLES"
   ]
  },
  {
   "cell_type": "code",
   "execution_count": 15,
   "id": "b464eef7-0ab6-4c2d-8e50-4159f64ff01d",
   "metadata": {},
   "outputs": [],
   "source": [
    "conversion_file_path = '../audio_output/gravity__architects__anavae/accompaniment.mp3'\n",
    "NOTES = ['C', 'C#', 'D', 'Eb', 'E', 'F', 'F#', 'G', 'Ab', 'A', 'Bb', 'B']\n",
    "OCTAVES = list(range(len(NOTES)-1))\n",
    "NOTES_IN_OCTAVE = len(NOTES)\n",
    "OCTAVE = 4 "
   ]
  },
  {
   "cell_type": "markdown",
   "id": "9972d37b-4fd2-48fb-b69b-b74bd6489586",
   "metadata": {},
   "source": [
    "# FUNCTIONS"
   ]
  },
  {
   "cell_type": "code",
   "execution_count": 20,
   "id": "e1177dd9-7696-4842-b72d-8b584849d258",
   "metadata": {},
   "outputs": [],
   "source": [
    "def get_chord_composition(chord_shorthand):\n",
    "    try:\n",
    "        chord_composition = chords.from_shorthand(chord_shorthand)\n",
    "        return chord_composition\n",
    "    except: \n",
    "        return None\n",
    "\n",
    "def swap_accidentals(note):\n",
    "    note_swap_dict = {\n",
    "        'Db': 'C#',\n",
    "        'D#': 'Eb',\n",
    "        'Fb': 'E',\n",
    "        'E#': 'F',\n",
    "        'Gb': 'F#',\n",
    "        'G#': 'Ab',\n",
    "        'A#': 'Bb',\n",
    "        'B#': 'C',\n",
    "        'Cb': 'B',\n",
    "        'Ebb': 'D'\n",
    "    }\n",
    "    if note in note_swap_dict.keys():\n",
    "        note = note_swap_dict[note]\n",
    "    return note\n",
    "\n",
    "def apply_function_to_note_list(note_list, function):\n",
    "    if note_list:\n",
    "        return list(map(function, note_list))\n",
    "\n",
    "def note_to_number(note):\n",
    "    note = NOTES.index(note)\n",
    "    note += NOTES_IN_OCTAVE * OCTAVE\n",
    "    return note"
   ]
  },
  {
   "cell_type": "markdown",
   "id": "eea1eaef-8001-4de9-b116-2872db2601f3",
   "metadata": {},
   "source": [
    "# Inputs"
   ]
  },
  {
   "cell_type": "code",
   "execution_count": 21,
   "id": "c41b3d9d-5794-4d8a-9e96-519eb8b1f208",
   "metadata": {},
   "outputs": [
    {
     "ename": "KeyboardInterrupt",
     "evalue": "",
     "output_type": "error",
     "traceback": [
      "\u001b[0;31m---------------------------------------------------------------------------\u001b[0m",
      "\u001b[0;31mKeyboardInterrupt\u001b[0m                         Traceback (most recent call last)",
      "Cell \u001b[0;32mIn[21], line 2\u001b[0m\n\u001b[1;32m      1\u001b[0m chordino \u001b[38;5;241m=\u001b[39m Chordino(roll_on\u001b[38;5;241m=\u001b[39m\u001b[38;5;241m0\u001b[39m)\n\u001b[0;32m----> 2\u001b[0m chords_extraction \u001b[38;5;241m=\u001b[39m \u001b[43mchordino\u001b[49m\u001b[38;5;241;43m.\u001b[39;49m\u001b[43mextract\u001b[49m\u001b[43m(\u001b[49m\u001b[43mconversion_file_path\u001b[49m\u001b[43m,\u001b[49m\u001b[43m \u001b[49m\u001b[43msr\u001b[49m\u001b[38;5;241;43m=\u001b[39;49m\u001b[38;5;241;43m22050\u001b[39;49m\u001b[38;5;241;43m*\u001b[39;49m\u001b[38;5;241;43m16\u001b[39;49m\u001b[43m)\u001b[49m\n",
      "File \u001b[0;32m/mnt/c/Users/dhdzm/Documents/projects/music-spleeter/venv-test/lib/python3.8/site-packages/chord_extractor/extractors/chordino.py:104\u001b[0m, in \u001b[0;36mChordino.extract\u001b[0;34m(self, file, **kwargs)\u001b[0m\n\u001b[1;32m    102\u001b[0m data, rate \u001b[38;5;241m=\u001b[39m librosa\u001b[38;5;241m.\u001b[39mload(file, \u001b[38;5;241m*\u001b[39m\u001b[38;5;241m*\u001b[39mkwargs)\n\u001b[1;32m    103\u001b[0m _log\u001b[38;5;241m.\u001b[39minfo(\u001b[38;5;124m'\u001b[39m\u001b[38;5;124mSubmitting \u001b[39m\u001b[38;5;132;01m{}\u001b[39;00m\u001b[38;5;124m to Chordino for chord extraction.\u001b[39m\u001b[38;5;124m'\u001b[39m\u001b[38;5;241m.\u001b[39mformat(file))\n\u001b[0;32m--> 104\u001b[0m chords \u001b[38;5;241m=\u001b[39m \u001b[43mvamp\u001b[49m\u001b[38;5;241;43m.\u001b[39;49m\u001b[43mcollect\u001b[49m\u001b[43m(\u001b[49m\u001b[43mdata\u001b[49m\u001b[43m,\u001b[49m\u001b[43m \u001b[49m\u001b[43mrate\u001b[49m\u001b[43m,\u001b[49m\u001b[43m \u001b[49m\u001b[38;5;124;43m'\u001b[39;49m\u001b[38;5;124;43mnnls-chroma:chordino\u001b[39;49m\u001b[38;5;124;43m'\u001b[39;49m\u001b[43m,\u001b[49m\u001b[43m \u001b[49m\u001b[43mparameters\u001b[49m\u001b[38;5;241;43m=\u001b[39;49m\u001b[38;5;28;43mself\u001b[39;49m\u001b[38;5;241;43m.\u001b[39;49m\u001b[43m_params\u001b[49m\u001b[43m)\u001b[49m\n\u001b[1;32m    105\u001b[0m _log\u001b[38;5;241m.\u001b[39minfo(\u001b[38;5;124m'\u001b[39m\u001b[38;5;124mChord extraction for \u001b[39m\u001b[38;5;132;01m{}\u001b[39;00m\u001b[38;5;124m complete.\u001b[39m\u001b[38;5;124m'\u001b[39m\u001b[38;5;241m.\u001b[39mformat(file))\n\u001b[1;32m    106\u001b[0m \u001b[38;5;28;01mreturn\u001b[39;00m [ChordChange(timestamp\u001b[38;5;241m=\u001b[39m\u001b[38;5;28mfloat\u001b[39m(change[\u001b[38;5;124m'\u001b[39m\u001b[38;5;124mtimestamp\u001b[39m\u001b[38;5;124m'\u001b[39m]),\n\u001b[1;32m    107\u001b[0m                     chord\u001b[38;5;241m=\u001b[39mchange[\u001b[38;5;124m'\u001b[39m\u001b[38;5;124mlabel\u001b[39m\u001b[38;5;124m'\u001b[39m]) \u001b[38;5;28;01mfor\u001b[39;00m change \u001b[38;5;129;01min\u001b[39;00m chords[\u001b[38;5;124m'\u001b[39m\u001b[38;5;124mlist\u001b[39m\u001b[38;5;124m'\u001b[39m]]\n",
      "File \u001b[0;32m/mnt/c/Users/dhdzm/Documents/projects/music-spleeter/venv-test/lib/python3.8/site-packages/vamp/collect.py:179\u001b[0m, in \u001b[0;36mcollect\u001b[0;34m(data, sample_rate, plugin_key, output, parameters, **kwargs)\u001b[0m\n\u001b[1;32m    176\u001b[0m results \u001b[38;5;241m=\u001b[39m vamp\u001b[38;5;241m.\u001b[39mprocess\u001b[38;5;241m.\u001b[39mprocess_with_initialised_plugin(ff, sample_rate, step_size, plugin, [output])\n\u001b[1;32m    178\u001b[0m shape \u001b[38;5;241m=\u001b[39m deduce_shape(output_desc)\n\u001b[0;32m--> 179\u001b[0m rv \u001b[38;5;241m=\u001b[39m \u001b[43mreshape\u001b[49m\u001b[43m(\u001b[49m\u001b[43mresults\u001b[49m\u001b[43m,\u001b[49m\u001b[43m \u001b[49m\u001b[43msample_rate\u001b[49m\u001b[43m,\u001b[49m\u001b[43m \u001b[49m\u001b[43mstep_size\u001b[49m\u001b[43m,\u001b[49m\u001b[43m \u001b[49m\u001b[43moutput_desc\u001b[49m\u001b[43m,\u001b[49m\u001b[43m \u001b[49m\u001b[43mshape\u001b[49m\u001b[43m)\u001b[49m\n\u001b[1;32m    181\u001b[0m plugin\u001b[38;5;241m.\u001b[39munload()\n\u001b[1;32m    182\u001b[0m \u001b[38;5;28;01mreturn\u001b[39;00m { shape : rv }\n",
      "File \u001b[0;32m/mnt/c/Users/dhdzm/Documents/projects/music-spleeter/venv-test/lib/python3.8/site-packages/vamp/collect.py:106\u001b[0m, in \u001b[0;36mreshape\u001b[0;34m(results, sample_rate, step_size, output_desc, shape)\u001b[0m\n\u001b[1;32m    104\u001b[0m     rv \u001b[38;5;241m=\u001b[39m ( out_step, np\u001b[38;5;241m.\u001b[39marray(outseq, np\u001b[38;5;241m.\u001b[39mfloat32) )\n\u001b[1;32m    105\u001b[0m \u001b[38;5;28;01melse\u001b[39;00m:\n\u001b[0;32m--> 106\u001b[0m     rv \u001b[38;5;241m=\u001b[39m \u001b[38;5;28;43mlist\u001b[39;49m\u001b[43m(\u001b[49m\u001b[43mfill_timestamps\u001b[49m\u001b[43m(\u001b[49m\u001b[43mresults\u001b[49m\u001b[43m,\u001b[49m\u001b[43m \u001b[49m\u001b[43msample_rate\u001b[49m\u001b[43m,\u001b[49m\u001b[43m \u001b[49m\u001b[43mstep_size\u001b[49m\u001b[43m,\u001b[49m\u001b[43m \u001b[49m\u001b[43moutput_desc\u001b[49m\u001b[43m)\u001b[49m\u001b[43m)\u001b[49m\n\u001b[1;32m    108\u001b[0m \u001b[38;5;28;01mreturn\u001b[39;00m rv\n",
      "File \u001b[0;32m/mnt/c/Users/dhdzm/Documents/projects/music-spleeter/venv-test/lib/python3.8/site-packages/vamp/collect.py:72\u001b[0m, in \u001b[0;36mfill_timestamps\u001b[0;34m(results, sample_rate, step_size, output_desc)\u001b[0m\n\u001b[1;32m     68\u001b[0m \u001b[38;5;28;01mdef\u001b[39;00m \u001b[38;5;21mfill_timestamps\u001b[39m(results, sample_rate, step_size, output_desc):\n\u001b[1;32m     70\u001b[0m     output \u001b[38;5;241m=\u001b[39m output_desc[\u001b[38;5;124m\"\u001b[39m\u001b[38;5;124midentifier\u001b[39m\u001b[38;5;124m\"\u001b[39m]\n\u001b[0;32m---> 72\u001b[0m     selected \u001b[38;5;241m=\u001b[39m [ r[output] \u001b[38;5;28;01mfor\u001b[39;00m r \u001b[38;5;129;01min\u001b[39;00m results ]\n\u001b[1;32m     74\u001b[0m     stamped \u001b[38;5;241m=\u001b[39m timestamp_features(sample_rate, step_size, output_desc, selected)\n\u001b[1;32m     76\u001b[0m     \u001b[38;5;28;01mfor\u001b[39;00m s \u001b[38;5;129;01min\u001b[39;00m stamped:\n",
      "File \u001b[0;32m/mnt/c/Users/dhdzm/Documents/projects/music-spleeter/venv-test/lib/python3.8/site-packages/vamp/collect.py:72\u001b[0m, in \u001b[0;36m<listcomp>\u001b[0;34m(.0)\u001b[0m\n\u001b[1;32m     68\u001b[0m \u001b[38;5;28;01mdef\u001b[39;00m \u001b[38;5;21mfill_timestamps\u001b[39m(results, sample_rate, step_size, output_desc):\n\u001b[1;32m     70\u001b[0m     output \u001b[38;5;241m=\u001b[39m output_desc[\u001b[38;5;124m\"\u001b[39m\u001b[38;5;124midentifier\u001b[39m\u001b[38;5;124m\"\u001b[39m]\n\u001b[0;32m---> 72\u001b[0m     selected \u001b[38;5;241m=\u001b[39m [ r[output] \u001b[38;5;28;01mfor\u001b[39;00m r \u001b[38;5;129;01min\u001b[39;00m results ]\n\u001b[1;32m     74\u001b[0m     stamped \u001b[38;5;241m=\u001b[39m timestamp_features(sample_rate, step_size, output_desc, selected)\n\u001b[1;32m     76\u001b[0m     \u001b[38;5;28;01mfor\u001b[39;00m s \u001b[38;5;129;01min\u001b[39;00m stamped:\n",
      "File \u001b[0;32m/mnt/c/Users/dhdzm/Documents/projects/music-spleeter/venv-test/lib/python3.8/site-packages/vamp/process.py:45\u001b[0m, in \u001b[0;36mprocess_with_initialised_plugin\u001b[0;34m(ff, sample_rate, step_size, plugin, outputs)\u001b[0m\n\u001b[1;32m     43\u001b[0m \u001b[38;5;28;01mfor\u001b[39;00m f \u001b[38;5;129;01min\u001b[39;00m ff:\n\u001b[1;32m     44\u001b[0m     timestamp \u001b[38;5;241m=\u001b[39m vampyhost\u001b[38;5;241m.\u001b[39mframe_to_realtime(fi, sample_rate)\n\u001b[0;32m---> 45\u001b[0m     results \u001b[38;5;241m=\u001b[39m \u001b[43mplugin\u001b[49m\u001b[38;5;241;43m.\u001b[39;49m\u001b[43mprocess_block\u001b[49m\u001b[43m(\u001b[49m\u001b[43mf\u001b[49m\u001b[43m,\u001b[49m\u001b[43m \u001b[49m\u001b[43mtimestamp\u001b[49m\u001b[43m)\u001b[49m\n\u001b[1;32m     46\u001b[0m     \u001b[38;5;66;03m# results is a dict mapping output number -> list of feature dicts\u001b[39;00m\n\u001b[1;32m     47\u001b[0m     \u001b[38;5;28;01mfor\u001b[39;00m o \u001b[38;5;129;01min\u001b[39;00m outputs:\n",
      "\u001b[0;31mKeyboardInterrupt\u001b[0m: "
     ]
    }
   ],
   "source": [
    "chordino = Chordino(roll_on=0)\n",
    "chords_extraction = chordino.extract(conversion_file_path, sr=22050*4)"
   ]
  },
  {
   "cell_type": "markdown",
   "id": "1be4700a-1927-466a-b8b5-1dcebddb396e",
   "metadata": {},
   "source": [
    "# DATA TRANSFORMATIONS"
   ]
  },
  {
   "cell_type": "code",
   "execution_count": 22,
   "id": "037dc33d-1a68-4784-a02d-9331285e8638",
   "metadata": {},
   "outputs": [],
   "source": [
    "chord_list = [extracted_chord.chord for extracted_chord in chords_extraction]\n",
    "t_list = [extracted_chord.timestamp/60 for extracted_chord in chords_extraction]"
   ]
  },
  {
   "cell_type": "code",
   "execution_count": 23,
   "id": "e59f5c0e-8f9e-4ee4-bede-2f9d0ce560bf",
   "metadata": {},
   "outputs": [],
   "source": [
    "chord_information = pd.DataFrame()\n",
    "chord_information['chord'] = chord_list\n",
    "chord_information['timestamp'] = t_list\n",
    "chord_information['chord_composition'] = chord_information.chord.apply(get_chord_composition)\n",
    "chord_information['chord_composition_fixed'] = chord_information.chord_composition.apply(apply_function_to_note_list, function=swap_accidentals)\n",
    "chord_information['chord_note_nb'] = chord_information.chord_composition_fixed.apply(apply_function_to_note_list, function=note_to_number)\n",
    "chord_information['chord_duration'] = chord_information.timestamp.fillna(0).rolling(window=2).apply(lambda x: x.iloc[1] - x.iloc[0])\n",
    "chord_information['chord_duration'] = list(chord_information['chord_duration'])[1:] + [np.nan]\n",
    "chord_information = chord_information.dropna()"
   ]
  },
  {
   "cell_type": "code",
   "execution_count": 24,
   "id": "7c806043-77a7-43f0-afbd-bf4d32de7019",
   "metadata": {},
   "outputs": [],
   "source": [
    "#for i, pitch in enumerate(array_of_note_numbers):\n",
    "#    MyMIDI.addNote(track, channel, pitch, time + i, duration, volume)\n",
    "track = 0\n",
    "channel = 0\n",
    "time = 0  # In beats\n",
    "tempo = 60  # In BPM\n",
    "volume = 100  # 0-127, as per the MIDI standard\n",
    "\n",
    "MyMIDI = MIDIFile(1)  # One track, defaults to format 1 (tempo track is created\n",
    "MyMIDI.addTempo(track, time, tempo)\n",
    "\n",
    "for row_index in range(chord_information.shape[0]):\n",
    "    row = chord_information.iloc[row_index]\n",
    "    time = row.timestamp*60\n",
    "    duration = row.chord_duration*60-0.1\n",
    "    for musical_note in (row.chord_note_nb):\n",
    "        pitch = musical_note\n",
    "        MyMIDI.addNote(track, channel, pitch, time, duration, volume)"
   ]
  },
  {
   "cell_type": "markdown",
   "id": "a1cd1d5e-718d-4c07-825d-b9deb26e35ff",
   "metadata": {},
   "source": [
    "# OUTPUT"
   ]
  },
  {
   "cell_type": "code",
   "execution_count": 26,
   "id": "cf54cce6-0968-4523-b230-fd6e1fec0269",
   "metadata": {},
   "outputs": [],
   "source": [
    "with open(\"song_midi_test3.mid\", \"wb\") as output_file:\n",
    "    MyMIDI.writeFile(output_file)"
   ]
  },
  {
   "cell_type": "code",
   "execution_count": null,
   "id": "36d40f56-5b51-44bf-8861-71c674ae8477",
   "metadata": {},
   "outputs": [],
   "source": []
  }
 ],
 "metadata": {
  "kernelspec": {
   "display_name": "Python 3 (ipykernel)",
   "language": "python",
   "name": "python3"
  },
  "language_info": {
   "codemirror_mode": {
    "name": "ipython",
    "version": 3
   },
   "file_extension": ".py",
   "mimetype": "text/x-python",
   "name": "python",
   "nbconvert_exporter": "python",
   "pygments_lexer": "ipython3",
   "version": "3.8.10"
  }
 },
 "nbformat": 4,
 "nbformat_minor": 5
}
